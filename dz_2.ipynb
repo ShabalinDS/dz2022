{
  "nbformat": 4,
  "nbformat_minor": 0,
  "metadata": {
    "colab": {
      "provenance": []
    },
    "kernelspec": {
      "name": "python3",
      "display_name": "Python 3"
    },
    "language_info": {
      "name": "python"
    }
  },
  "cells": [
    {
      "cell_type": "code",
      "source": [
        "import numpy as np"
      ],
      "metadata": {
        "id": "xdSkdef4Qvz0"
      },
      "execution_count": 2,
      "outputs": []
    },
    {
      "cell_type": "markdown",
      "source": [
        "1. Создайте матрицу 5x5 со значениями 1,2,3,4 под главной диагональю. Остальные значения - нули."
      ],
      "metadata": {
        "id": "KIl7Cu0V0jfp"
      }
    },
    {
      "cell_type": "code",
      "source": [
        "a = np.diag([1,2,3,4,5])\n",
        "a"
      ],
      "metadata": {
        "colab": {
          "base_uri": "https://localhost:8080/"
        },
        "id": "g08bO5nx0oMe",
        "outputId": "85ae96fe-7d32-415c-a14c-739aa68c7a77"
      },
      "execution_count": null,
      "outputs": [
        {
          "output_type": "execute_result",
          "data": {
            "text/plain": [
              "array([[1, 0, 0, 0, 0],\n",
              "       [0, 2, 0, 0, 0],\n",
              "       [0, 0, 3, 0, 0],\n",
              "       [0, 0, 0, 4, 0],\n",
              "       [0, 0, 0, 0, 5]])"
            ]
          },
          "metadata": {},
          "execution_count": 6
        }
      ]
    },
    {
      "cell_type": "markdown",
      "source": [
        "2. Создайте двумерный массив 10x3, заполненный случайными значениями. В каждой строке выберите значение, наиболее близкое к 0.5."
      ],
      "metadata": {
        "id": "RlL7P7gq1LNu"
      }
    },
    {
      "cell_type": "code",
      "source": [
        "min = [a[np.abs(a-0.5).argmin()] for a in np.random.random((10,3))]\n",
        "print(min)"
      ],
      "metadata": {
        "id": "jSxsj3UA1USu",
        "colab": {
          "base_uri": "https://localhost:8080/"
        },
        "outputId": "53861560-b1f1-4b50-ff42-6aae7ace8e8b"
      },
      "execution_count": 3,
      "outputs": [
        {
          "output_type": "stream",
          "name": "stdout",
          "text": [
            "[0.27951879683586645, 0.5740686653933194, 0.3241659918206301, 0.7054775140429396, 0.6088743816694302, 0.3137350538223259, 0.5761251347614635, 0.46635827618369796, 0.5664369747815194, 0.44127456226980677]\n"
          ]
        }
      ]
    },
    {
      "cell_type": "markdown",
      "source": [
        "3.Создайте двумерный массив 6x6, заполненный случайными значениями. Сумму по каждой строке поделите на максимальный элемент из столбца с тем же индексом."
      ],
      "metadata": {
        "id": "gDFDSQnLFXGm"
      }
    },
    {
      "cell_type": "code",
      "source": [
        "b = np.random.random((6,6))\n",
        "print(b)\n",
        "c = np.asarray([np.sum(x) for x in b])\n",
        "min = np.array([np.min(x) for x in b])\n",
        "c/min"
      ],
      "metadata": {
        "colab": {
          "base_uri": "https://localhost:8080/"
        },
        "id": "2vK_89eAFWzQ",
        "outputId": "ffc4fe5c-2b2c-4196-c418-fa3473c2493e"
      },
      "execution_count": 6,
      "outputs": [
        {
          "output_type": "stream",
          "name": "stdout",
          "text": [
            "[[0.47923338 0.731652   0.82744243 0.82296384 0.42956302 0.18565053]\n",
            " [0.61154181 0.55837982 0.69696405 0.41586691 0.84124101 0.72609274]\n",
            " [0.17327601 0.7763538  0.22204146 0.70789285 0.41494014 0.95239965]\n",
            " [0.74009921 0.29709824 0.87871718 0.13071887 0.57849148 0.79182391]\n",
            " [0.88457804 0.80676404 0.70524926 0.37865533 0.0101976  0.41264169]\n",
            " [0.45205529 0.03152802 0.61286015 0.78881068 0.77871887 0.42696803]]\n"
          ]
        },
        {
          "output_type": "execute_result",
          "data": {
            "text/plain": [
              "array([ 18.72607197,   9.25797719,  18.73833473,  26.13967559,\n",
              "       313.6116374 ,  98.03790369])"
            ]
          },
          "metadata": {},
          "execution_count": 6
        }
      ]
    },
    {
      "cell_type": "markdown",
      "source": [
        "4.На примере массива x = np.array([6, 2, 0, 3, 0, 0, 5, 7, 0]) найдите максимальный элемент в массиве среди элементов, перед которыми стоит ноль."
      ],
      "metadata": {
        "id": "0Xpk4-7mGwHA"
      }
    },
    {
      "cell_type": "code",
      "source": [
        "x = np.array([6, 2, 0, 3, 0, 0, 5, 7, 0])\n",
        "print(max(np.array([x[i] for i in range (1,9) if x[i-1] == 0])))"
      ],
      "metadata": {
        "colab": {
          "base_uri": "https://localhost:8080/"
        },
        "id": "6zXDcrAZGyBx",
        "outputId": "eb6285e4-2dac-4f6b-82f8-bf11d9ca7d0d"
      },
      "execution_count": 7,
      "outputs": [
        {
          "output_type": "stream",
          "name": "stdout",
          "text": [
            "5\n"
          ]
        }
      ]
    },
    {
      "cell_type": "markdown",
      "source": [
        "5.Пусть заданы два массива x = np.ones(10) и i = np.array([0, 1, 2, 3, 5, 5, 5, 8]). Прибавьте единицу к тем элементам массива x, индексы которых указаны в массиве i. В случае, если некоторый индекс встретился в массиве i несколько раз, прибавьте к соответствующему элементу массива x число вхождений данного индекса в массив i."
      ],
      "metadata": {
        "id": "xRk8Zc13Hqjw"
      }
    },
    {
      "cell_type": "code",
      "source": [
        "x = np.ones(10)\n",
        "i = np.array([0, 1, 2, 3, 5, 5, 5, 8])\n",
        "for j in i:\n",
        "    x[j]+=1\n",
        "print (x)"
      ],
      "metadata": {
        "colab": {
          "base_uri": "https://localhost:8080/"
        },
        "id": "Zy1sDrZRHuM3",
        "outputId": "1060a3fb-92d3-4671-96f9-60f3dfd24d6d"
      },
      "execution_count": 8,
      "outputs": [
        {
          "output_type": "stream",
          "name": "stdout",
          "text": [
            "[2. 2. 2. 2. 1. 4. 1. 1. 2. 1.]\n"
          ]
        }
      ]
    },
    {
      "cell_type": "markdown",
      "source": [
        "6.Сколько вы можете предложить способов округлить значения в массиве до ближайшего целого?"
      ],
      "metadata": {
        "id": "BzhaYS7CI53v"
      }
    },
    {
      "cell_type": "code",
      "source": [
        "y = np.array([1.3, 3.78, 4.23, 6.6, 10.5, 11, 15.54, 12.44, 14])\n",
        "new_y = np.array(list(map(lambda x: round(x) , y)))\n",
        "print(new_y)"
      ],
      "metadata": {
        "colab": {
          "base_uri": "https://localhost:8080/"
        },
        "id": "li9DEKJXJhEX",
        "outputId": "9a34b1f6-61bb-4f67-86e3-d1d13ad031bd"
      },
      "execution_count": 12,
      "outputs": [
        {
          "output_type": "stream",
          "name": "stdout",
          "text": [
            "[ 1  4  4  7 10 11 16 12 14]\n"
          ]
        }
      ]
    },
    {
      "cell_type": "markdown",
      "source": [
        "7.Написать функцию, реализующую алгоритм k-means."
      ],
      "metadata": {
        "id": "cobTgmVMLygB"
      }
    },
    {
      "cell_type": "code",
      "source": [
        "def index_points(points, vertex):     # индекс до ближайшего центра\n",
        "    index=np.empty(len(points[:,0]))\n",
        "    index=np.asarray([np.argmin(np.sum((points[i]-vertex)**2,axis=1)).astype(int) for i in range (len(points[:,0]))])\n",
        "    return index\n",
        "               \n",
        "def new_vertex(points, vertex, index):   # новые центры из средних арифметических в кластерах\n",
        "    nvertex=np.empty((len(vertex),2))\n",
        "    nvertex=np.asarray ([np.mean(points[index==i], axis=0) for i in range (len(vertex))])\n",
        "    return nvertex\n",
        "\n",
        "def kmeans(points, k_or_guess):\n",
        "    if type(k_or_guess)==int:\n",
        "        index=np.random.choice(len(points[:,0]), k_or_guess, replace=False)\n",
        "        vertex=points[index]\n",
        "    else:\n",
        "        vertex=k_or_guess\n",
        "    x=index_points (points, vertex)\n",
        "    nvertex=new_vertex (points,vertex,x)\n",
        "    while (np.allclose(vertex, nvertex)==0):\n",
        "        vertex=nvertex\n",
        "        x=index_points (points, vertex)\n",
        "        nvertex=new_vertex (points,vertex,x)\n",
        "    distortion =0.0\n",
        "    for i in range(len(points)):\n",
        "        distortion=distortion+(np.sum((points[i]-vertex[x[i].astype(int)])**2))**0.5\n",
        "    distortion=distortion/len(points[:,0])\n",
        "    return vertex, distortion   "
      ],
      "metadata": {
        "id": "-qQ9linJLwA7"
      },
      "execution_count": 1,
      "outputs": []
    }
  ]
}