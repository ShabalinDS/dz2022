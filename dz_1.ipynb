{
  "nbformat": 4,
  "nbformat_minor": 0,
  "metadata": {
    "colab": {
      "provenance": [],
      "collapsed_sections": [],
      "authorship_tag": "ABX9TyM8K975WvQlVKJFBFvL5WL7",
      "include_colab_link": true
    },
    "kernelspec": {
      "name": "python3",
      "display_name": "Python 3"
    },
    "language_info": {
      "name": "python"
    }
  },
  "cells": [
    {
      "cell_type": "markdown",
      "metadata": {
        "id": "view-in-github",
        "colab_type": "text"
      },
      "source": [
        "<a href=\"https://colab.research.google.com/github/ShabalinDS/dz2022/blob/dz_1/dz_1.ipynb\" target=\"_parent\"><img src=\"https://colab.research.google.com/assets/colab-badge.svg\" alt=\"Open In Colab\"/></a>"
      ]
    },
    {
      "cell_type": "code",
      "execution_count": 2,
      "metadata": {
        "id": "T635t4wlRNA5"
      },
      "outputs": [],
      "source": [
        "class Test:\n",
        "    @staticmethod\n",
        "    def assert_equals(a, b, *args, **kwargs):\n",
        "        assert a == b\n",
        "        print('Passed')"
      ]
    },
    {
      "cell_type": "markdown",
      "source": [
        "Problem https://edabit.com/challenge/gzmFeaXwFv8X6pBGq (1 point)"
      ],
      "metadata": {
        "id": "oxQk29lL-O7B"
      }
    },
    {
      "cell_type": "code",
      "source": [
        "def series_resistance(lst):\n",
        "\ts = 0\n",
        "\tfor i in lst:\n",
        "\t \t\ts+= i\n",
        "\tif s > 1:\n",
        "\t \t\t return str(s) + ' ohms'\n",
        "\telse:\n",
        "\t \t\t return str(s) + ' ohm'\n",
        "\n",
        "Test.assert_equals(series_resistance([1, 5, 6, 3]), \"15 ohms\")\n",
        "Test.assert_equals(series_resistance([0.2, 0.3, 0.4]), \"0.9 ohm\")\n",
        "Test.assert_equals(series_resistance([10,12, 1, 10]), \"33 ohms\")\n",
        "Test.assert_equals(series_resistance([10,13, 3.8, 20, 10]), \"56.8 ohms\")\n",
        "Test.assert_equals(series_resistance([0.5, 0.5]), \"1.0 ohm\")\n",
        "Test.assert_equals(series_resistance([16, 30, 22.8, 4]), \"72.8 ohms\")\n",
        "Test.assert_equals(series_resistance([20, 15, 32.5, 2]), \"69.5 ohms\")\n",
        "Test.assert_equals(series_resistance([52, 22, 20, 30]), \"124 ohms\")\n",
        "Test.assert_equals(series_resistance([10, 12, 32, 4.9, 5, 6, 71]), \"140.9 ohms\")"
      ],
      "metadata": {
        "colab": {
          "base_uri": "https://localhost:8080/"
        },
        "id": "UKQ0AbXxR2-E",
        "outputId": "ec08c5d7-3776-405c-92b3-0604ef225675"
      },
      "execution_count": 5,
      "outputs": [
        {
          "output_type": "stream",
          "name": "stdout",
          "text": [
            "Passed\n",
            "Passed\n",
            "Passed\n",
            "Passed\n",
            "Passed\n",
            "Passed\n",
            "Passed\n",
            "Passed\n",
            "Passed\n"
          ]
        }
      ]
    },
    {
      "cell_type": "markdown",
      "source": [
        "Problem https://edabit.com/challenge/3DAkZHv2LZjgqWbvW (2 point)"
      ],
      "metadata": {
        "id": "Zsq8LOBL-kNH"
      }
    },
    {
      "cell_type": "code",
      "source": [
        "def is_adjacent(matrix, node1, node2):\n",
        "\t\tif matrix[node1][node2] == 1:\n",
        "\t\t\t\treturn True\n",
        "\t\telse:\n",
        "\t\t    return False\n",
        "\n",
        "matrix = [[0,1,0,0],[1,0,1,1],[0,1,0,1],[0,1,1,0]]\n",
        "Test.assert_equals(is_adjacent(matrix, 0, 1), True)\n",
        "Test.assert_equals(is_adjacent(matrix, 0, 2), False)\n",
        "Test.assert_equals(is_adjacent(matrix, 2, 1), True)\n",
        "\n",
        "matrix = [[0,1,0,1,1], [1,0,1,0,0],[0,1,0,1,0],[1,0,1,0,1],[1,0,0,1,0]]\n",
        "Test.assert_equals(is_adjacent(matrix, 0, 3), True)\n",
        "Test.assert_equals(is_adjacent(matrix, 1, 4), False)\n",
        "Test.assert_equals(is_adjacent(matrix, 3, 2), True)\n"
      ],
      "metadata": {
        "colab": {
          "base_uri": "https://localhost:8080/"
        },
        "id": "YkvtDl8R-gu0",
        "outputId": "a5985363-c6f5-4f9f-9f17-29af0b01973e"
      },
      "execution_count": 8,
      "outputs": [
        {
          "output_type": "stream",
          "name": "stdout",
          "text": [
            "Passed\n",
            "Passed\n",
            "Passed\n",
            "Passed\n",
            "Passed\n",
            "Passed\n"
          ]
        }
      ]
    },
    {
      "cell_type": "markdown",
      "source": [
        "Problem https://edabit.com/challenge/guR6aa2zytfZvywMS (2 point)"
      ],
      "metadata": {
        "id": "GjkLksG--iKq"
      }
    },
    {
      "cell_type": "code",
      "source": [
        "def total_overs(balls):\n",
        "\tq = (balls%6)/10\n",
        "\tw = (balls-q)//6\n",
        "\treturn w + q\n",
        "\n",
        "Test.assert_equals(total_overs(2400), 400)\n",
        "Test.assert_equals(total_overs(164), 27.2)\n",
        "Test.assert_equals(total_overs(945), 157.3)\n",
        "Test.assert_equals(total_overs(5), 0.5)\n",
        "Test.assert_equals(total_overs(7), 1.1)\n",
        "Test.assert_equals(total_overs(15), 2.3)\n",
        "Test.assert_equals(total_overs(0), 0)"
      ],
      "metadata": {
        "colab": {
          "base_uri": "https://localhost:8080/"
        },
        "id": "5Y2gBy1F-lo7",
        "outputId": "de597997-218a-4cd5-ac76-afe9eb64d24c"
      },
      "execution_count": 9,
      "outputs": [
        {
          "output_type": "stream",
          "name": "stdout",
          "text": [
            "Passed\n",
            "Passed\n",
            "Passed\n",
            "Passed\n",
            "Passed\n",
            "Passed\n",
            "Passed\n"
          ]
        }
      ]
    },
    {
      "cell_type": "markdown",
      "source": [
        "Problem https://edabit.com/challenge/cXnkmRdxqJrwdsP4n (1 point)"
      ],
      "metadata": {
        "id": "CArXE1TA_UwT"
      }
    },
    {
      "cell_type": "code",
      "source": [
        "def dis(price, discount):\n",
        "\treturn price*(100-discount)/100\n",
        "\n",
        "Test.assert_equals(dis(100, 75), 25)\n",
        "Test.assert_equals(dis(211, 50), 105.5)\n",
        "Test.assert_equals(dis(593, 61), 231.27)\n",
        "Test.assert_equals(dis(1693, 80), 338.6)\n",
        "Test.assert_equals(dis(700, 10), 630)\n"
      ],
      "metadata": {
        "colab": {
          "base_uri": "https://localhost:8080/"
        },
        "id": "khLo3ng5_YsS",
        "outputId": "96aae9c2-0ec0-41bf-8551-53e015d8bf97"
      },
      "execution_count": 10,
      "outputs": [
        {
          "output_type": "stream",
          "name": "stdout",
          "text": [
            "Passed\n",
            "Passed\n",
            "Passed\n",
            "Passed\n",
            "Passed\n"
          ]
        }
      ]
    },
    {
      "cell_type": "markdown",
      "source": [
        "Problem https://edabit.com/challenge/4me7LifXBwj5rhL4n (1 point)\n"
      ],
      "metadata": {
        "id": "gZvRq5OV_ZPE"
      }
    },
    {
      "cell_type": "code",
      "source": [
        "import math\n",
        "def circle_or_square(rad, area):\n",
        "\tif (2*3.14*rad > 4*math.sqrt(area)):\n",
        "\t    return True\n",
        "\telse:\n",
        "\t    return False\n",
        "\n",
        "Test.assert_equals(circle_or_square(16, 625), True)\n",
        "Test.assert_equals(circle_or_square(8, 144), True)\n",
        "Test.assert_equals(circle_or_square(15, 400), True)\n",
        "Test.assert_equals(circle_or_square(5, 100), False)\n",
        "Test.assert_equals(circle_or_square(18, 900), False)\n",
        "Test.assert_equals(circle_or_square(1, 4), False)"
      ],
      "metadata": {
        "colab": {
          "base_uri": "https://localhost:8080/"
        },
        "id": "YhmGi6oM_Zc-",
        "outputId": "05cbac19-32c2-4569-f8f8-c620a6bda4e3"
      },
      "execution_count": 12,
      "outputs": [
        {
          "output_type": "stream",
          "name": "stdout",
          "text": [
            "Passed\n",
            "Passed\n",
            "Passed\n",
            "Passed\n",
            "Passed\n",
            "Passed\n"
          ]
        }
      ]
    },
    {
      "cell_type": "markdown",
      "source": [
        "Problem https://edabit.com/challenge/pfn6QRn6eiTHEPpSs (2 point)"
      ],
      "metadata": {
        "id": "2PN8fgs2_Zly"
      }
    },
    {
      "cell_type": "code",
      "source": [
        "def int_to_str(num):\n",
        "\treturn int(num)\n",
        "\n",
        "def str_to_int(num):\n",
        "\treturn str(num)\n",
        "\n",
        "str, int = int, str\n",
        "\n",
        "if str(4) == '4' and int('4') == 4:\n",
        "\tprint('**EXTRA POINTS**')\n",
        "\tprint('You have successfully de-drunken Python')\n",
        "\n",
        "Test.assert_equals(int_to_str(4), '4')\n",
        "Test.assert_equals(int_to_str(65), '65')\n",
        "Test.assert_equals(int_to_str(29348), '29348')\n",
        "Test.assert_equals(int_to_str(49583908545), '49583908545')\n",
        "\n",
        "Test.assert_equals(str_to_int('4'), 4)\n",
        "Test.assert_equals(str_to_int('65'), 65)\n",
        "Test.assert_equals(str_to_int('29348'), 29348)\n",
        "Test.assert_equals(str_to_int('49583908545'), 49583908545)"
      ],
      "metadata": {
        "colab": {
          "base_uri": "https://localhost:8080/"
        },
        "id": "xrpKvxGo_Ztb",
        "outputId": "bba6a60a-abbb-4a71-abec-3554bf3a17c6"
      },
      "execution_count": 13,
      "outputs": [
        {
          "output_type": "stream",
          "name": "stdout",
          "text": [
            "Passed\n",
            "Passed\n",
            "Passed\n",
            "Passed\n",
            "Passed\n",
            "Passed\n",
            "Passed\n",
            "Passed\n"
          ]
        }
      ]
    },
    {
      "cell_type": "markdown",
      "source": [
        "Problem https://edabit.com/challenge/Ns4Sjh7KK58ofAph8 (1 point)\n"
      ],
      "metadata": {
        "id": "aUV7mz_W_Zzz"
      }
    },
    {
      "cell_type": "code",
      "source": [
        "import math\n",
        "def is_triplet(n1, n2, n3):\n",
        "\t\tq = min(n1,n2, n3)\n",
        "\t\tw = max(n1,n2,n3)\n",
        "\t\te = math.sqrt(w*w - q*q)\n",
        "\t\tif (e == n1) or (e == n2) or (e == n3):\n",
        "\t\t\t\treturn True\n",
        "\t\telse:\n",
        "\t\t\t\treturn False\n",
        "\n",
        "Test.assert_equals(is_triplet(3, 4, 5), True)\n",
        "Test.assert_equals(is_triplet(1, 2, 3), False)\n",
        "Test.assert_equals(is_triplet(3, 18, 8), False)\n",
        "Test.assert_equals(is_triplet(7, 12, 7), False)\n",
        "Test.assert_equals(is_triplet(13, 5, 12), True)\n",
        "Test.assert_equals(is_triplet(12, 20, 18), False)\n",
        "Test.assert_equals(is_triplet(17, 14, 2), False)\n",
        "Test.assert_equals(is_triplet(6, 15, 12), False)\n",
        "Test.assert_equals(is_triplet(60, 61, 11), True)\n",
        "Test.assert_equals(is_triplet(7, 13, 15), False)\n",
        "Test.assert_equals(is_triplet(12, 18, 7), False)\n",
        "Test.assert_equals(is_triplet(8, 17, 15), True)\n",
        "Test.assert_equals(is_triplet(3120, 79, 3121), True)"
      ],
      "metadata": {
        "colab": {
          "base_uri": "https://localhost:8080/"
        },
        "id": "aPeyQSx2_Z5M",
        "outputId": "bd7dcc3c-3644-4ada-e790-3fc697ea6bc6"
      },
      "execution_count": 14,
      "outputs": [
        {
          "output_type": "stream",
          "name": "stdout",
          "text": [
            "Passed\n",
            "Passed\n",
            "Passed\n",
            "Passed\n",
            "Passed\n",
            "Passed\n",
            "Passed\n",
            "Passed\n",
            "Passed\n",
            "Passed\n",
            "Passed\n",
            "Passed\n",
            "Passed\n"
          ]
        }
      ]
    },
    {
      "cell_type": "markdown",
      "source": [
        "Problem https://edabit.com/challenge/o2AKq4xy3nfZabKXL (2 point)"
      ],
      "metadata": {
        "id": "VBAn1FWc__Tq"
      }
    },
    {
      "cell_type": "code",
      "source": [
        "def solutions(a, b, c):\n",
        "\td = b*b - 4*a*c\n",
        "\tif d > 0 :\n",
        "\t\t\treturn 2\n",
        "\telif d == 0:\n",
        "\t    return 1\n",
        "\telse:\n",
        "\t    return 0\n",
        "Test.assert_equals(solutions(1, 0, -1), 2)\n",
        "Test.assert_equals(solutions(1, 0, 0), 1)\n",
        "Test.assert_equals(solutions(1, 0, 1), 0)\n",
        "Test.assert_equals(solutions(200, 420, 800), 0)\n",
        "Test.assert_equals(solutions(200, 420, -800), 2)\n",
        "Test.assert_equals(solutions(1000, 1000, 0), 2)\n",
        "Test.assert_equals(solutions(10000, 400, 4), 1)\n"
      ],
      "metadata": {
        "colab": {
          "base_uri": "https://localhost:8080/"
        },
        "id": "KjADTEyV__dm",
        "outputId": "321bc106-b662-4101-bebc-1750ab78bf02"
      },
      "execution_count": 15,
      "outputs": [
        {
          "output_type": "stream",
          "name": "stdout",
          "text": [
            "Passed\n",
            "Passed\n",
            "Passed\n",
            "Passed\n",
            "Passed\n",
            "Passed\n",
            "Passed\n"
          ]
        }
      ]
    },
    {
      "cell_type": "markdown",
      "source": [
        "Problem https://edabit.com/challenge/x6McEkHer8A3Hke2q (2 point)"
      ],
      "metadata": {
        "id": "BXaj5OjVAQ1a"
      }
    },
    {
      "cell_type": "code",
      "source": [
        "def factorial(num):\n",
        "\tif num > 1:\n",
        "\t    return num*factorial(num-1)\n",
        "\telse:\n",
        "\t    return 1\n",
        "\n",
        "Test.assert_equals(factorial(7), 5040)\n",
        "Test.assert_equals(factorial(1), 1)\n",
        "Test.assert_equals(factorial(9), 362880)\n",
        "Test.assert_equals(factorial(2), 2)"
      ],
      "metadata": {
        "colab": {
          "base_uri": "https://localhost:8080/"
        },
        "id": "P3hBvwprAQ_Y",
        "outputId": "4752294f-56a2-416c-e988-9f3968c09948"
      },
      "execution_count": 16,
      "outputs": [
        {
          "output_type": "stream",
          "name": "stdout",
          "text": [
            "Passed\n",
            "Passed\n",
            "Passed\n",
            "Passed\n"
          ]
        }
      ]
    },
    {
      "cell_type": "markdown",
      "source": [
        "Problem https://edabit.com/challenge/TiqTew3PcofZgdbR4 (1 point)"
      ],
      "metadata": {
        "id": "RhlN4zofAatj"
      }
    },
    {
      "cell_type": "code",
      "source": [
        "def bitwise_and(n1, n2):\n",
        "\treturn n1&n2\n",
        "\n",
        "def bitwise_or(n1, n2):\n",
        "\treturn n1|n2\n",
        "\n",
        "def bitwise_xor(n1, n2):\n",
        "\treturn n1^n2\n",
        "\n",
        "Test.assert_equals(bitwise_and(7, 12), 4)\n",
        "Test.assert_equals(bitwise_or(7, 12), 15)\n",
        "Test.assert_equals(bitwise_xor(7, 12), 11)\n",
        "\n",
        "Test.assert_equals(bitwise_and(32, 17), 0)\n",
        "Test.assert_equals(bitwise_or(32, 17), 49)\n",
        "Test.assert_equals(bitwise_xor(32, 17), 49)\n",
        "\n",
        "Test.assert_equals(bitwise_and(13, 19), 1)\n",
        "Test.assert_equals(bitwise_or(13, 19), 31)\n",
        "Test.assert_equals(bitwise_xor(13, 19), 30)"
      ],
      "metadata": {
        "colab": {
          "base_uri": "https://localhost:8080/"
        },
        "id": "7P9trDB6Aa4S",
        "outputId": "07b874fc-cb26-4d77-ea47-9fc72cc4a0cf"
      },
      "execution_count": 17,
      "outputs": [
        {
          "output_type": "stream",
          "name": "stdout",
          "text": [
            "Passed\n",
            "Passed\n",
            "Passed\n",
            "Passed\n",
            "Passed\n",
            "Passed\n",
            "Passed\n",
            "Passed\n",
            "Passed\n"
          ]
        }
      ]
    }
  ]
}