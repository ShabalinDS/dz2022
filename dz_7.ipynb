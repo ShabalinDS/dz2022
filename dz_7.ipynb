{
  "nbformat": 4,
  "nbformat_minor": 0,
  "metadata": {
    "colab": {
      "provenance": []
    },
    "kernelspec": {
      "name": "python3",
      "display_name": "Python 3"
    },
    "language_info": {
      "name": "python"
    }
  },
  "cells": [
    {
      "cell_type": "markdown",
      "source": [
        "Датасет:"
      ],
      "metadata": {
        "id": "nPCNv-QfYYTE"
      }
    },
    {
      "cell_type": "code",
      "execution_count": null,
      "metadata": {
        "id": "oXBvxnURW2RA"
      },
      "outputs": [],
      "source": [
        "import numpy as np\n",
        "from sklearn.datasets import fetch_20newsgroups\n",
        "\n",
        "newsgroups_train = fetch_20newsgroups(subset='train', remove=('headers', 'footers', 'quotes'))"
      ]
    },
    {
      "cell_type": "markdown",
      "source": [
        "Выведем список категорий текстов:"
      ],
      "metadata": {
        "id": "SsoEK2bJYTBR"
      }
    },
    {
      "cell_type": "code",
      "source": [
        "newsgroups_train.target_names"
      ],
      "metadata": {
        "colab": {
          "base_uri": "https://localhost:8080/"
        },
        "id": "blOjcm0fYBGA",
        "outputId": "3794d196-2489-43c5-9eb4-03b25e0bff3a"
      },
      "execution_count": null,
      "outputs": [
        {
          "output_type": "execute_result",
          "data": {
            "text/plain": [
              "['alt.atheism',\n",
              " 'comp.graphics',\n",
              " 'comp.os.ms-windows.misc',\n",
              " 'comp.sys.ibm.pc.hardware',\n",
              " 'comp.sys.mac.hardware',\n",
              " 'comp.windows.x',\n",
              " 'misc.forsale',\n",
              " 'rec.autos',\n",
              " 'rec.motorcycles',\n",
              " 'rec.sport.baseball',\n",
              " 'rec.sport.hockey',\n",
              " 'sci.crypt',\n",
              " 'sci.electronics',\n",
              " 'sci.med',\n",
              " 'sci.space',\n",
              " 'soc.religion.christian',\n",
              " 'talk.politics.guns',\n",
              " 'talk.politics.mideast',\n",
              " 'talk.politics.misc',\n",
              " 'talk.religion.misc']"
            ]
          },
          "metadata": {},
          "execution_count": 9
        }
      ]
    },
    {
      "cell_type": "code",
      "source": [
        "newsgroups_train.target[:100]"
      ],
      "metadata": {
        "colab": {
          "base_uri": "https://localhost:8080/"
        },
        "id": "Ccdq9NXrFbT1",
        "outputId": "8d99261d-238c-4e9d-c945-3b2538ceedca"
      },
      "execution_count": null,
      "outputs": [
        {
          "output_type": "execute_result",
          "data": {
            "text/plain": [
              "array([ 7,  4,  4,  1, 14, 16, 13,  3,  2,  4,  8, 19,  4, 14,  6,  0,  1,\n",
              "        7, 12,  5,  0, 10,  6,  2,  4,  1, 12,  9, 15,  7,  6, 13, 12, 17,\n",
              "       18, 10,  8, 11,  8, 16,  9,  4,  3,  9,  9,  4,  4,  8, 12, 14,  5,\n",
              "       15,  2, 13, 17, 11,  7, 10,  2, 14, 12,  5,  4,  6,  7,  0, 11, 16,\n",
              "        0,  6, 17,  7, 12,  7,  3, 12, 11,  7,  2,  2,  0, 16,  1,  2,  7,\n",
              "        3,  2,  1, 10, 12, 12, 17, 12,  2,  8,  8, 18,  5,  0,  1])"
            ]
          },
          "metadata": {},
          "execution_count": 10
        }
      ]
    },
    {
      "cell_type": "code",
      "source": [
        "from sklearn.feature_extraction.text import CountVectorizer\n",
        "from sklearn.feature_extraction.text import ENGLISH_STOP_WORDS\n",
        "\n",
        "vectorizer = CountVectorizer(lowercase=True, stop_words=ENGLISH_STOP_WORDS,\n",
        "                             analyzer='word', binary=True, min_df=10, max_df=.04)\n",
        "vectorizer.fit(newsgroups_train.data)"
      ],
      "metadata": {
        "colab": {
          "base_uri": "https://localhost:8080/"
        },
        "id": "te3WcpYdYdyB",
        "outputId": "91306cdf-e41c-47c6-d94d-b8a84e83ec8e"
      },
      "execution_count": null,
      "outputs": [
        {
          "output_type": "execute_result",
          "data": {
            "text/plain": [
              "CountVectorizer(binary=True, max_df=0.04, min_df=10,\n",
              "                stop_words=frozenset({'a', 'about', 'above', 'across', 'after',\n",
              "                                      'afterwards', 'again', 'against', 'all',\n",
              "                                      'almost', 'alone', 'along', 'already',\n",
              "                                      'also', 'although', 'always', 'am',\n",
              "                                      'among', 'amongst', 'amoungst', 'amount',\n",
              "                                      'an', 'and', 'another', 'any', 'anyhow',\n",
              "                                      'anyone', 'anything', 'anyway',\n",
              "                                      'anywhere', ...}))"
            ]
          },
          "metadata": {},
          "execution_count": 11
        }
      ]
    },
    {
      "cell_type": "code",
      "source": [
        "X_train = vectorizer.fit_transform(newsgroups_train.data)\n",
        "X_train.shape"
      ],
      "metadata": {
        "colab": {
          "base_uri": "https://localhost:8080/"
        },
        "id": "Hydg3XTeF5ot",
        "outputId": "205e587b-d3f5-43f9-be6b-33be77c03d77"
      },
      "execution_count": null,
      "outputs": [
        {
          "output_type": "execute_result",
          "data": {
            "text/plain": [
              "(11314, 10299)"
            ]
          },
          "metadata": {},
          "execution_count": 12
        }
      ]
    },
    {
      "cell_type": "code",
      "source": [
        "from tqdm import tqdm\n",
        "\n",
        "def lda(n_dk, n_kw, n_k, z, doc, word, topics, alpha, beta, it):    \n",
        "    for i in tqdm(range(it)):\n",
        "        for j in range(len(doc)):\n",
        "            cur_word = word[j]\n",
        "            cur_doc = doc[j]\n",
        "            cur_topic = z[j]\n",
        "            \n",
        "            n_dk[cur_doc, cur_topic] -= 1\n",
        "            n_kw[cur_topic, cur_word] -= 1\n",
        "            n_k[cur_topic] -= 1\n",
        "            \n",
        "            p = (n_dk[cur_doc, :] + alpha) * (n_kw[:, cur_word] + beta[cur_word]) / (n_k + beta.sum())\n",
        "            z[j] = np.random.choice(np.arange(topics), p=p / p.sum())\n",
        "            \n",
        "            n_dk[cur_doc, z[j]] += 1\n",
        "            n_kw[z[j], cur_word] += 1\n",
        "            n_k[z[j]] += 1\n",
        "    return z, n_kw, n_dk, n_k"
      ],
      "metadata": {
        "id": "WCuff-yTGAwE"
      },
      "execution_count": null,
      "outputs": []
    },
    {
      "cell_type": "code",
      "source": [
        "z,n_kw, n_dk, n_k=lda(n_dk, n_kw, n_k, z, doc, word, 20, 2*np.ones(20), 2*np.ones(X_train.shape[1]), 50)"
      ],
      "metadata": {
        "colab": {
          "base_uri": "https://localhost:8080/"
        },
        "id": "e_KP-52CZUdS",
        "outputId": "40f00d81-afcb-4570-df9f-218dafeb2664"
      },
      "execution_count": null,
      "outputs": [
        {
          "output_type": "stream",
          "name": "stderr",
          "text": [
            "100%|██████████| 50/50 [21:13<00:00, 25.47s/it]\n"
          ]
        }
      ]
    },
    {
      "cell_type": "code",
      "source": [
        "answer = np.argsort(n_kw, axis=1)[:, -10:]\n",
        "for i in range(20):\n",
        "    matrix = np.zeros((1, X_train.shape[1]))\n",
        "    for j in answer[i]:\n",
        "        matrix[0, j] = 1\n",
        "    print('Topic {} \\t{}'.format(i + 1, '\\t'.join(vectorizer.inverse_transform(matrix)[0])))"
      ],
      "metadata": {
        "colab": {
          "base_uri": "https://localhost:8080/"
        },
        "id": "4La-IuGgr5G7",
        "outputId": "99601ee7-4d2f-4f13-9d03-35c46b02fbf3"
      },
      "execution_count": null,
      "outputs": [
        {
          "output_type": "stream",
          "name": "stdout",
          "text": [
            "Topic 1 \tarticle\tcurrent\tmentioned\tposted\tsorry\tsort\tstuff\tunderstand\twait\tweeks\n",
            "Topic 2 \tcost\tearth\tlaunch\tlow\tmajor\tnasa\torbit\tsmall\tspace\tstation\n",
            "Topic 3 \tcar\tclose\tcomes\tcurious\tgame\tguess\tobviously\toriginal\ttalking\tweek\n",
            "Topic 4 \tanti\taren\tcurrent\tinfo\tlight\tlooks\toriginal\tsimilar\tsmall\ttype\n",
            "Topic 5 \tanybody\tcause\tcheck\tfeel\tguy\tlines\tmoney\tnews\tsorry\tsound\n",
            "Topic 6 \tanybody\tbuy\tcheck\tcorrect\tinteresting\tlines\tradio\tsmall\tsource\tuser\n",
            "Topic 7 \tappreciate\tcar\tclear\tgoes\thigher\tideas\tjob\tlarge\tposting\tworking\n",
            "Topic 8 \tcard\tcomputer\tdisk\tdos\thi\tmemory\tpc\tspeed\tvideo\tworks\n",
            "Topic 9 \tcame\tcity\tdays\thome\tkilled\tleft\tsaw\tstarted\ttook\twent\n",
            "Topic 10 \tbanks\tcadre\tchastity\tdsl\tgeb\tgordon\tintellect\tpitt\tsoon\tsurrender\n",
            "Topic 11 \tagree\tbook\tbtw\tfairly\timho\tlarge\tnice\toh\tsmall\tunless\n",
            "Topic 12 \t00\tcar\tdifference\tinfo\tinstead\tnews\tok\tphone\tunless\tvalue\n",
            "Topic 13 \tagree\tbible\tcertainly\tchristian\tchristians\tclaim\tjesus\tman\treligion\tsaying\n",
            "Topic 14 \tbike\tcar\tdifference\tleft\tlow\tnice\treply\tsound\ttype\tworth\n",
            "Topic 15 \tamerican\tcontrol\tgeneral\tkey\tlaw\tnational\tprivate\tpublic\trights\tstates\n",
            "Topic 16 \tapplication\tcode\tfile\tfiles\tftp\tposted\tsun\tuser\tversion\twindow\n",
            "Topic 17 \tcar\tcertainly\texperience\tinstead\tinteresting\toh\tservice\tsorry\tsort\twouldn\n",
            "Topic 18 \tcar\tdoubt\tgame\tlonger\tman\tnice\tnote\tputting\tstuff\twouldn\n",
            "Topic 19 \tarticle\tcar\tcomes\tgets\thalf\thaven\tmaking\toh\tsource\tstuff\n",
            "Topic 20 \t11\t12\t14\t18\t24\tgame\tgames\tplay\tseason\tteam\n"
          ]
        }
      ]
    },
    {
      "cell_type": "markdown",
      "source": [
        "Topic 1   медецина\n",
        "\n",
        "\n",
        "Topic 2 \tforsale\n",
        "\n",
        "\n",
        "Topic 4 \tатеизм\n",
        "\n",
        "\n",
        "Topic 5 \tполитика(разное)\n",
        "\n",
        "\n",
        "Topic 6 \tforsale\n",
        "\n",
        "\n",
        "Topic 8   электроника\n",
        "\n",
        "\n",
        "Topic 9 \tполитика(оружие)\n",
        "\n",
        "\n",
        "Topic 10 \tэкономика\n",
        "\n",
        "\n",
        "Topic 11 \tновости\n",
        "\n",
        "\n",
        "Topic 12 \tавтомобили\n",
        "\n",
        "\n",
        "Topic 13 \tрелигия христианство\n",
        "\n",
        "\n",
        "Topic 14 \tмотоциклы\n",
        "\n",
        "\n",
        "Topic 15 \tполитика (америка)\n",
        "\n",
        "\n",
        "Topic 16 \twindows.x\n",
        "\n",
        "\n",
        "Topic 19 \tавто\n",
        "\n",
        "\n",
        "Topic 20 хоккей\n"
      ],
      "metadata": {
        "id": "FlWEA2vKLb7D"
      }
    }
  ]
}